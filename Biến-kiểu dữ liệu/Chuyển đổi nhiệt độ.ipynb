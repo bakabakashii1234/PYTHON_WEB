{
 "cells": [
  {
   "cell_type": "code",
   "execution_count": 2,
   "id": "361f4206",
   "metadata": {},
   "outputs": [
    {
     "name": "stdout",
     "output_type": "stream",
     "text": [
      "Enter the Celsius: 32\n",
      "Fahrenheit of Celsius: 89.6F\n"
     ]
    }
   ],
   "source": [
    "oC= float(input(\"Enter the Celsius: \"))\n",
    "oF = (oC*1.8)+32\n",
    "print(f\"Fahrenheit of Celsius: {oF}F\")"
   ]
  },
  {
   "cell_type": "code",
   "execution_count": null,
   "id": "aae110d7",
   "metadata": {},
   "outputs": [],
   "source": []
  }
 ],
 "metadata": {
  "kernelspec": {
   "display_name": "Python 3 (ipykernel)",
   "language": "python",
   "name": "python3"
  },
  "language_info": {
   "codemirror_mode": {
    "name": "ipython",
    "version": 3
   },
   "file_extension": ".py",
   "mimetype": "text/x-python",
   "name": "python",
   "nbconvert_exporter": "python",
   "pygments_lexer": "ipython3",
   "version": "3.11.3"
  }
 },
 "nbformat": 4,
 "nbformat_minor": 5
}
