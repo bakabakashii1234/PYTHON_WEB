{
 "cells": [
  {
   "cell_type": "code",
   "execution_count": 1,
   "id": "80b2ca6b",
   "metadata": {},
   "outputs": [
    {
     "name": "stdout",
     "output_type": "stream",
     "text": [
      "Enter the day of the week you want: 2\n",
      "today is Monday\n"
     ]
    }
   ],
   "source": [
    "day = int(input(\"Enter the day of the week you want: \"))\n",
    "if day==1:\n",
    "    print(\"today is Sunday\")\n",
    "elif day==2:\n",
    "    print(\"today is Monday\")\n",
    "elif day==3:\n",
    "    print(\"today is Tuesday\")\n",
    "elif day==4:\n",
    "    print(\"today is Wednesday\")\n",
    "elif day==5:\n",
    "    print(\"today is Thursday\")\n",
    "elif day==6:\n",
    "    print(\"today is Friday\")\n",
    "elif day==7:\n",
    "    print(\"today is Sunday\")\n",
    "else: \n",
    "    print(\"syntax error\")"
   ]
  },
  {
   "cell_type": "code",
   "execution_count": null,
   "id": "d045a9be",
   "metadata": {},
   "outputs": [],
   "source": []
  }
 ],
 "metadata": {
  "kernelspec": {
   "display_name": "Python 3 (ipykernel)",
   "language": "python",
   "name": "python3"
  },
  "language_info": {
   "codemirror_mode": {
    "name": "ipython",
    "version": 3
   },
   "file_extension": ".py",
   "mimetype": "text/x-python",
   "name": "python",
   "nbconvert_exporter": "python",
   "pygments_lexer": "ipython3",
   "version": "3.11.3"
  }
 },
 "nbformat": 4,
 "nbformat_minor": 5
}
