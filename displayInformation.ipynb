{
 "cells": [
  {
   "cell_type": "code",
   "execution_count": 1,
   "id": "c445e167",
   "metadata": {},
   "outputs": [
    {
     "name": "stdout",
     "output_type": "stream",
     "text": [
      "Ho ten: Huynh Duy Tan\n",
      "Ngay sinh: 14/11/1997\n",
      "Dia chi: 新潟県上越市大学福田５００三菱化学直江津\n",
      "Mục đích đến với khóa học: muốn học thêm kiến thức mới và chuyển sang lĩnh vực IT để làm việc\n"
     ]
    }
   ],
   "source": [
    "print(\"Ho ten: Huynh Duy Tan\")\n",
    "print(\"Ngay sinh: 14/11/1997\")\n",
    "print(\"Dia chi: 新潟県上越市大学福田５００三菱化学直江津\")\n",
    "print(\"Mục đích đến với khóa học: muốn học thêm kiến thức mới và chuyển sang lĩnh vực IT để làm việc\")"
   ]
  },
  {
   "cell_type": "code",
   "execution_count": null,
   "id": "ff3e1c32",
   "metadata": {},
   "outputs": [],
   "source": []
  }
 ],
 "metadata": {
  "kernelspec": {
   "display_name": "Python 3 (ipykernel)",
   "language": "python",
   "name": "python3"
  },
  "language_info": {
   "codemirror_mode": {
    "name": "ipython",
    "version": 3
   },
   "file_extension": ".py",
   "mimetype": "text/x-python",
   "name": "python",
   "nbconvert_exporter": "python",
   "pygments_lexer": "ipython3",
   "version": "3.11.3"
  }
 },
 "nbformat": 4,
 "nbformat_minor": 5
}
