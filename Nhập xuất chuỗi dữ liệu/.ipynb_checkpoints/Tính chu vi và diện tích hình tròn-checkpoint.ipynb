{
 "cells": [
  {
   "cell_type": "code",
   "execution_count": 3,
   "id": "a4438fe1",
   "metadata": {},
   "outputs": [
    {
     "name": "stdout",
     "output_type": "stream",
     "text": [
      "Enter the radius: 100\n",
      "Chu vi hinh tron: 628.3185307179587\n",
      "Dien tich hinh tron: 31415.926535897932\n"
     ]
    }
   ],
   "source": [
    "import turtle\n",
    "import math\n",
    "r = int(input(\"Enter the radius: \"))\n",
    "#Vẽ hình tròn\n",
    "t = turtle.Turtle()\n",
    "t.hideturtle()\n",
    "t.pensize(1)\n",
    "t.color(\"red\")\n",
    "t.circle(r)\n",
    "turtle.done()\n",
    "#tính chu vi và diện tích\n",
    "c = 2 * math.pi * r\n",
    "s = math.pi * r * r\n",
    "print(f\"Chu vi hinh tron: {c}\")\n",
    "print(f\"Dien tich hinh tron: {s}\")"
   ]
  },
  {
   "cell_type": "code",
   "execution_count": null,
   "id": "4ddd6dee",
   "metadata": {},
   "outputs": [],
   "source": []
  }
 ],
 "metadata": {
  "kernelspec": {
   "display_name": "Python 3 (ipykernel)",
   "language": "python",
   "name": "python3"
  },
  "language_info": {
   "codemirror_mode": {
    "name": "ipython",
    "version": 3
   },
   "file_extension": ".py",
   "mimetype": "text/x-python",
   "name": "python",
   "nbconvert_exporter": "python",
   "pygments_lexer": "ipython3",
   "version": "3.11.3"
  }
 },
 "nbformat": 4,
 "nbformat_minor": 5
}
