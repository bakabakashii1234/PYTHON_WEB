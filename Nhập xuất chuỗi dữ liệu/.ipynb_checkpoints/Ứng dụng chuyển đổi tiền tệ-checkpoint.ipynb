{
 "cells": [
  {
   "cell_type": "code",
   "execution_count": 10,
   "id": "511d9a5b",
   "metadata": {},
   "outputs": [
    {
     "name": "stdout",
     "output_type": "stream",
     "text": [
      "Nhập số tiền USD cần chuyển đổi: 2\n",
      "Nhập tỉ giá USD/VND: 23000\n",
      "2.0USD@ -> 46000VND\n"
     ]
    }
   ],
   "source": [
    "USD = float(input(\"Nhập số tiền USD cần chuyển đổi: \"))\n",
    "Ti_gia = float(input(\"Nhập tỉ giá USD/VND: \"))\n",
    "VND = int(USD*Ti_gia)\n",
    "print(f\"{USD}USD -> {VND}VND\")\n"
   ]
  },
  {
   "cell_type": "code",
   "execution_count": null,
   "id": "14a41cb9",
   "metadata": {},
   "outputs": [],
   "source": []
  }
 ],
 "metadata": {
  "kernelspec": {
   "display_name": "Python 3 (ipykernel)",
   "language": "python",
   "name": "python3"
  },
  "language_info": {
   "codemirror_mode": {
    "name": "ipython",
    "version": 3
   },
   "file_extension": ".py",
   "mimetype": "text/x-python",
   "name": "python",
   "nbconvert_exporter": "python",
   "pygments_lexer": "ipython3",
   "version": "3.11.3"
  }
 },
 "nbformat": 4,
 "nbformat_minor": 5
}
